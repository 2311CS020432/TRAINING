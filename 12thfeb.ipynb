{
 "cells": [
  {
   "cell_type": "code",
   "execution_count": 1,
   "id": "0e5c847e-eff5-4e3b-bd1a-4c863b7feb51",
   "metadata": {},
   "outputs": [],
   "source": [
    "from sklearn.cluster import DBSCAN\n",
    "from sklearn.preprocessing import StandardScaler\n",
    "import numpy as np\n",
    "import pandas as pd\n",
    "import matplotlib.pyplot as plt"
   ]
  },
  {
   "cell_type": "markdown",
   "id": "3a0ce77a-c2f4-4146-be44-b8d0bbb8e192",
   "metadata": {},
   "source": [
    "# df=pd.read_csv(r\"/Users/kruthikasaisree/Downloads/Wholesale customers data.csv\")\n",
    "df.head()"
   ]
  },
  {
   "cell_type": "code",
   "execution_count": null,
   "id": "32df4c8a-1746-43ff-93b6-f0ea5a3bc127",
   "metadata": {},
   "outputs": [],
   "source": [
    "df.shape"
   ]
  },
  {
   "cell_type": "code",
   "execution_count": null,
   "id": "5fa7b2f2-6196-4d05-bdd9-3f066d106123",
   "metadata": {},
   "outputs": [],
   "source": [
    "df.isnull().sum()"
   ]
  },
  {
   "cell_type": "code",
   "execution_count": null,
   "id": "3fb95a9d-b82b-48c5-a3e3-cfc72ab290c2",
   "metadata": {},
   "outputs": [],
   "source": [
    "df.duplicated().sum()"
   ]
  },
  {
   "cell_type": "code",
   "execution_count": null,
   "id": "7978694c-1819-4b76-8ec2-37c59334ffd1",
   "metadata": {},
   "outputs": [],
   "source": [
    "df.columns"
   ]
  },
  {
   "cell_type": "code",
   "execution_count": null,
   "id": "7473cbaa-ee58-4ed4-a4f6-e2dd043bf4a8",
   "metadata": {},
   "outputs": [],
   "source": [
    "df.info()"
   ]
  },
  {
   "cell_type": "code",
   "execution_count": null,
   "id": "cf8a60a7-a807-4409-a94e-ac6548e758eb",
   "metadata": {},
   "outputs": [],
   "source": [
    "df = df.drop(columns=['Channel', 'Region'], axis=1)\n"
   ]
  },
  {
   "cell_type": "code",
   "execution_count": null,
   "id": "f182e37b-8264-4b5e-b61c-5c832c46fcb0",
   "metadata": {},
   "outputs": [],
   "source": [
    "df"
   ]
  },
  {
   "cell_type": "code",
   "execution_count": null,
   "id": "7208e4b9-270d-4603-8b48-91fbf408cebf",
   "metadata": {},
   "outputs": [],
   "source": [
    "std_scaler=StandardScaler()\n",
    "scale_array=std_scaler.fit_transform(df)"
   ]
  },
  {
   "cell_type": "code",
   "execution_count": null,
   "id": "22e6bef9-89f6-4bb3-8d0d-faf9eff78c15",
   "metadata": {},
   "outputs": [],
   "source": [
    "scale_array"
   ]
  },
  {
   "cell_type": "code",
   "execution_count": null,
   "id": "cbdbb2a3-0b97-4325-9cdb-889930ff6786",
   "metadata": {},
   "outputs": [],
   "source": [
    "scale_array.shape"
   ]
  },
  {
   "cell_type": "code",
   "execution_count": null,
   "id": "56d10aef-7c9e-4372-b8dc-6b2556b151bb",
   "metadata": {},
   "outputs": [],
   "source": [
    "scale_array.size"
   ]
  },
  {
   "cell_type": "code",
   "execution_count": null,
   "id": "be19da3f-4f51-41ed-948e-65c19ce14cb6",
   "metadata": {},
   "outputs": [],
   "source": [
    "from sklearn.preprocessing import StandardScaler\n",
    "st_scaler=StandardScaler()\n",
    "x=st_scaler.fit_transform(df)\n"
   ]
  },
  {
   "cell_type": "code",
   "execution_count": null,
   "id": "bbc69627-aae1-4698-9e8d-e87f2dc6efcb",
   "metadata": {},
   "outputs": [],
   "source": [
    "x"
   ]
  },
  {
   "cell_type": "code",
   "execution_count": null,
   "id": "5c94bffc-30aa-4ea6-82de-b61002f0fa68",
   "metadata": {},
   "outputs": [],
   "source": [
    "type(x)"
   ]
  },
  {
   "cell_type": "code",
   "execution_count": null,
   "id": "57f39fc7-e302-411b-9435-69ba3d8a05cb",
   "metadata": {},
   "outputs": [],
   "source": [
    "import scipy.cluster.hierarchy as sch\n",
    "#responsible for creating the plot of hierarchical data model and to know the number of clusters or groups\n",
    "plt.figure(figsize=(20,6))\n",
    "dendo= sch.dendrogram(sch.linkage(x,method='ward'))\n",
    "plt.title(\"Dendrogram\")\n",
    "plt.xlabel('Customer data')\n",
    "plt.ylabel('Eucl Distance')\n",
    "plt.show()"
   ]
  },
  {
   "cell_type": "code",
   "execution_count": null,
   "id": "640d6141-eb05-4bc5-a405-8e54ddb765db",
   "metadata": {},
   "outputs": [],
   "source": [
    "#no of groups we can create with our data\n",
    "len(set(dendo['color_list']))-1"
   ]
  },
  {
   "cell_type": "code",
   "execution_count": null,
   "id": "5667755b-6881-427d-a030-a9dffec45622",
   "metadata": {},
   "outputs": [],
   "source": [
    "from sklearn.cluster import AgglomerativeClustering\n",
    "group=AgglomerativeClustering(n_clusters=3)\n",
    "group.fit_predict(x)"
   ]
  },
  {
   "cell_type": "code",
   "execution_count": null,
   "id": "0d620ae1-7b5d-467a-bc4d-9c4c9ad5caea",
   "metadata": {},
   "outputs": [],
   "source": [
    "cluster=group.fit_predict(x)"
   ]
  },
  {
   "cell_type": "code",
   "execution_count": null,
   "id": "97e63397-c966-4c37-82b4-a31df134cd7d",
   "metadata": {},
   "outputs": [],
   "source": [
    "cluster"
   ]
  },
  {
   "cell_type": "code",
   "execution_count": null,
   "id": "2327527e-8b54-4920-a4e6-01a22ce5888c",
   "metadata": {},
   "outputs": [],
   "source": [
    "cluster.shape"
   ]
  },
  {
   "cell_type": "code",
   "execution_count": null,
   "id": "402d7b8d-9680-4d57-bc7d-b70dd15ebe53",
   "metadata": {},
   "outputs": [],
   "source": [
    "#converting array into dataframe\n",
    "group_num=pd.DataFrame(cluster,columns=['Group'])"
   ]
  },
  {
   "cell_type": "code",
   "execution_count": null,
   "id": "48630abf-d48d-4083-9ce7-2911fc292179",
   "metadata": {},
   "outputs": [],
   "source": [
    "group_num"
   ]
  },
  {
   "cell_type": "code",
   "execution_count": null,
   "id": "9ae96756-ee7b-42d7-8939-915de22903a3",
   "metadata": {},
   "outputs": [],
   "source": [
    "pd.concat([df,group_num],axis=1)"
   ]
  },
  {
   "cell_type": "code",
   "execution_count": null,
   "id": "05e82e5f-c0c4-4dbd-a5ff-53b2086a1098",
   "metadata": {},
   "outputs": [],
   "source": [
    "from sklearn.metrics import silhouette_score\n",
    "silhouette_score(x,cluster)"
   ]
  },
  {
   "cell_type": "code",
   "execution_count": null,
   "id": "16e024e0-a13d-48df-bcbf-20323e2dd3b1",
   "metadata": {},
   "outputs": [],
   "source": [
    "from sklearn.cluster import KMeans\n",
    "\n",
    "\n",
    "wcss=[]\n",
    "for i in range (2,11):\n",
    "    kmeans = KMeans(n_clusters=i,init='K-means++' , random_state=42)\n",
    "    kmeans.fit(x)\n",
    "    wcss.append(Kmeans.inertia_)"
   ]
  },
  {
   "cell_type": "code",
   "execution_count": 27,
   "id": "65025314-5c4a-45b2-86fe-dc1f0e19971f",
   "metadata": {},
   "outputs": [
    {
     "ename": "NameError",
     "evalue": "name 'wcss' is not defined",
     "output_type": "error",
     "traceback": [
      "\u001b[1;31m---------------------------------------------------------------------------\u001b[0m",
      "\u001b[1;31mNameError\u001b[0m                                 Traceback (most recent call last)",
      "Cell \u001b[1;32mIn[27], line 1\u001b[0m\n\u001b[1;32m----> 1\u001b[0m wcss\n",
      "\u001b[1;31mNameError\u001b[0m: name 'wcss' is not defined"
     ]
    }
   ],
   "source": [
    "wcss"
   ]
  },
  {
   "cell_type": "code",
   "execution_count": 29,
   "id": "8f46b090-80d8-491d-bb48-42748b4dd809",
   "metadata": {},
   "outputs": [
    {
     "ename": "NameError",
     "evalue": "name 'wcss' is not defined",
     "output_type": "error",
     "traceback": [
      "\u001b[1;31m---------------------------------------------------------------------------\u001b[0m",
      "\u001b[1;31mNameError\u001b[0m                                 Traceback (most recent call last)",
      "Cell \u001b[1;32mIn[29], line 1\u001b[0m\n\u001b[1;32m----> 1\u001b[0m plt\u001b[38;5;241m.\u001b[39mplot(\u001b[38;5;28mrange\u001b[39m(\u001b[38;5;241m2\u001b[39m,\u001b[38;5;241m11\u001b[39m),wcss)\n\u001b[0;32m      2\u001b[0m plt\u001b[38;5;241m.\u001b[39mtitle(\u001b[38;5;124m'\u001b[39m\u001b[38;5;124mThe Elbow Method\u001b[39m\u001b[38;5;124m'\u001b[39m)\n\u001b[0;32m      3\u001b[0m plt\u001b[38;5;241m.\u001b[39mxlabel(\u001b[38;5;124m'\u001b[39m\u001b[38;5;124mNumber of clusters\u001b[39m\u001b[38;5;124m'\u001b[39m)\n",
      "\u001b[1;31mNameError\u001b[0m: name 'wcss' is not defined"
     ]
    }
   ],
   "source": [
    "plt.plot(range(2,11),wcss)\n",
    "plt.title('The Elbow Method')\n",
    "plt.xlabel('Number of clusters')\n",
    "plt.ylabel('WCSS')\n",
    "plt.show()"
   ]
  },
  {
   "cell_type": "code",
   "execution_count": null,
   "id": "2caf6cd7-e2cf-49f9-9ffa-6699d8b7a162",
   "metadata": {},
   "outputs": [],
   "source": []
  }
 ],
 "metadata": {
  "kernelspec": {
   "display_name": "Python [conda env:base] *",
   "language": "python",
   "name": "conda-base-py"
  },
  "language_info": {
   "codemirror_mode": {
    "name": "ipython",
    "version": 3
   },
   "file_extension": ".py",
   "mimetype": "text/x-python",
   "name": "python",
   "nbconvert_exporter": "python",
   "pygments_lexer": "ipython3",
   "version": "3.12.7"
  }
 },
 "nbformat": 4,
 "nbformat_minor": 5
}
